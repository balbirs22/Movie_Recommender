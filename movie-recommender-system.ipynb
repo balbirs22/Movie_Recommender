{
 "cells": [
  {
   "cell_type": "code",
   "execution_count": 1,
   "id": "8e772dfd-1fdc-4d4c-b5cd-eaf62d212f87",
   "metadata": {},
   "outputs": [],
   "source": [
    "import numpy as np\n",
    "import pandas as pd"
   ]
  },
  {
   "cell_type": "code",
   "execution_count": 3,
   "id": "4e5a4cdc-daca-47c9-a529-3f487ee6e611",
   "metadata": {},
   "outputs": [],
   "source": [
    "movies=pd.read_csv('tmdb_5000_movies.csv')\n",
    "credits=pd.read_csv('tmdb_5000_credits.csv')"
   ]
  },
  {
   "cell_type": "code",
   "execution_count": 28,
   "id": "c2d13440-bf81-42f2-8d22-663db9114c25",
   "metadata": {},
   "outputs": [
    {
     "name": "stdout",
     "output_type": "stream",
     "text": [
      "<class 'pandas.core.frame.DataFrame'>\n",
      "RangeIndex: 4845 entries, 0 to 4844\n",
      "Data columns (total 29 columns):\n",
      " #   Column                Non-Null Count  Dtype  \n",
      "---  ------                --------------  -----  \n",
      " 0   budget                4845 non-null   int64  \n",
      " 1   genres                4845 non-null   object \n",
      " 2   homepage              1719 non-null   object \n",
      " 3   id                    4845 non-null   int64  \n",
      " 4   keywords              4845 non-null   object \n",
      " 5   original_language     4845 non-null   object \n",
      " 6   original_title        4845 non-null   object \n",
      " 7   overview              4842 non-null   object \n",
      " 8   popularity            4845 non-null   float64\n",
      " 9   production_companies  4845 non-null   object \n",
      " 10  production_countries  4845 non-null   object \n",
      " 11  release_date          4844 non-null   object \n",
      " 12  revenue               4845 non-null   int64  \n",
      " 13  runtime               4843 non-null   float64\n",
      " 14  spoken_languages      4845 non-null   object \n",
      " 15  status                4845 non-null   object \n",
      " 16  tagline               4001 non-null   object \n",
      " 17  title                 4845 non-null   object \n",
      " 18  vote_average          4845 non-null   float64\n",
      " 19  vote_count            4845 non-null   int64  \n",
      " 20  movie_id_x            4845 non-null   int64  \n",
      " 21  cast_x                4845 non-null   object \n",
      " 22  crew_x                4845 non-null   object \n",
      " 23  movie_id_y            4845 non-null   int64  \n",
      " 24  cast_y                4845 non-null   object \n",
      " 25  crew_y                4845 non-null   object \n",
      " 26  movie_id              4845 non-null   int64  \n",
      " 27  cast                  4845 non-null   object \n",
      " 28  crew                  4845 non-null   object \n",
      "dtypes: float64(3), int64(7), object(19)\n",
      "memory usage: 1.1+ MB\n"
     ]
    }
   ],
   "source": [
    "movies=movies.merge(credits,on='title')\n",
    "movies.info()"
   ]
  },
  {
   "cell_type": "code",
   "execution_count": 32,
   "id": "21f59756-174b-41ab-93ee-b94e0d2833c9",
   "metadata": {},
   "outputs": [],
   "source": [
    "# genres\n",
    "# id\n",
    "# keywords\n",
    "# title\n",
    "# overview\n",
    "# cast\n",
    "# crew\n",
    "movies=movies[['movie_id','title','overview','genres','keywords','cast','crew']]"
   ]
  },
  {
   "cell_type": "code",
   "execution_count": 36,
   "id": "2dbf201b-8024-4e4f-8fc7-e921162e807a",
   "metadata": {},
   "outputs": [
    {
     "data": {
      "text/plain": [
       "movie_id    0\n",
       "title       0\n",
       "overview    3\n",
       "genres      0\n",
       "keywords    0\n",
       "cast        0\n",
       "crew        0\n",
       "dtype: int64"
      ]
     },
     "execution_count": 36,
     "metadata": {},
     "output_type": "execute_result"
    }
   ],
   "source": [
    "movies.isnull().sum()"
   ]
  },
  {
   "cell_type": "code",
   "execution_count": 38,
   "id": "784b36f5-a1ab-4b18-9d33-82580de4c8f1",
   "metadata": {},
   "outputs": [],
   "source": [
    "movies.dropna(inplace=True)"
   ]
  },
  {
   "cell_type": "code",
   "execution_count": 40,
   "id": "38eeb011-86e7-4c82-8ba6-8a6765cef727",
   "metadata": {},
   "outputs": [
    {
     "data": {
      "text/plain": [
       "movie_id    0\n",
       "title       0\n",
       "overview    0\n",
       "genres      0\n",
       "keywords    0\n",
       "cast        0\n",
       "crew        0\n",
       "dtype: int64"
      ]
     },
     "execution_count": 40,
     "metadata": {},
     "output_type": "execute_result"
    }
   ],
   "source": [
    "movies.isnull().sum()"
   ]
  },
  {
   "cell_type": "code",
   "execution_count": 42,
   "id": "c94f6615-781e-4fbb-93ea-f746687bec24",
   "metadata": {},
   "outputs": [
    {
     "data": {
      "text/plain": [
       "36"
      ]
     },
     "execution_count": 42,
     "metadata": {},
     "output_type": "execute_result"
    }
   ],
   "source": [
    "movies.duplicated().sum()"
   ]
  },
  {
   "cell_type": "code",
   "execution_count": 46,
   "id": "eb8be077-13d0-4edf-ab70-6bea5ea8bbdf",
   "metadata": {},
   "outputs": [],
   "source": [
    "movies = movies.drop_duplicates()"
   ]
  },
  {
   "cell_type": "code",
   "execution_count": 48,
   "id": "35859e96-331c-4906-92b6-9833c97f3088",
   "metadata": {},
   "outputs": [
    {
     "data": {
      "text/plain": [
       "0"
      ]
     },
     "execution_count": 48,
     "metadata": {},
     "output_type": "execute_result"
    }
   ],
   "source": [
    "movies.duplicated().sum()"
   ]
  },
  {
   "cell_type": "code",
   "execution_count": 52,
   "id": "6c4f79a9-bffb-461a-8dea-e2abfb08169d",
   "metadata": {},
   "outputs": [],
   "source": [
    "import ast\n",
    "def convert(obj):\n",
    "    L=[]\n",
    "    for i in ast.literal_eval(obj):\n",
    "        L.append(i['name'])\n",
    "    return L"
   ]
  },
  {
   "cell_type": "code",
   "execution_count": 54,
   "id": "06ed7d45-f69e-40ae-a7b6-84f27e4d1049",
   "metadata": {},
   "outputs": [],
   "source": [
    "movies['genres']=movies['genres'].apply(convert)"
   ]
  },
  {
   "cell_type": "code",
   "execution_count": 58,
   "id": "5b57a060-ea15-483e-9e1c-dc57cce279dc",
   "metadata": {},
   "outputs": [],
   "source": [
    "movies['keywords']=movies['keywords'].apply(convert)"
   ]
  },
  {
   "cell_type": "code",
   "execution_count": 63,
   "id": "46698f36-cb19-4d18-a202-991f04b7218e",
   "metadata": {},
   "outputs": [],
   "source": [
    "def convert3(obj):\n",
    "    L=[]\n",
    "    counter=0\n",
    "    for i in ast.literal_eval(obj):\n",
    "        if counter!=3:\n",
    "            L.append(i['name'])\n",
    "            counter+=1\n",
    "        else:\n",
    "            break\n",
    "    return L"
   ]
  },
  {
   "cell_type": "code",
   "execution_count": 65,
   "id": "4da17bbb-f0af-48b1-8df5-d025f0b42fa7",
   "metadata": {},
   "outputs": [],
   "source": [
    "movies['cast']=movies['cast'].apply(convert3)"
   ]
  },
  {
   "cell_type": "code",
   "execution_count": 72,
   "id": "344263a0-8332-4f7c-b5c1-3d96c9910c32",
   "metadata": {},
   "outputs": [],
   "source": [
    "def fetch_dir(obj):\n",
    "    L=[]\n",
    "    for i in ast.literal_eval(obj):\n",
    "        if i['job'] == 'Director':\n",
    "            L.append(i['name'])\n",
    "            break\n",
    "    return L"
   ]
  },
  {
   "cell_type": "code",
   "execution_count": 74,
   "id": "c4f698a1-677e-4019-98ca-eec4a2cfd55c",
   "metadata": {},
   "outputs": [],
   "source": [
    "movies['crew']=movies['crew'].apply(fetch_dir)"
   ]
  },
  {
   "cell_type": "code",
   "execution_count": 81,
   "id": "7ee72cb8-539a-4743-88aa-9629b09d6da2",
   "metadata": {},
   "outputs": [],
   "source": [
    "movies['overview']=movies['overview'].apply(lambda x:x.split())"
   ]
  },
  {
   "cell_type": "code",
   "execution_count": 92,
   "id": "e18888d3-3ad7-496b-a3c5-cd73a3df68c5",
   "metadata": {},
   "outputs": [],
   "source": [
    "movies['genres']=movies['genres'].apply(lambda x:[i.replace(\" \",\"\") for i in x])\n",
    "movies['keywords']=movies['keywords'].apply(lambda x:[i.replace(\" \",\"\") for i in x])\n",
    "movies['cast']=movies['cast'].apply(lambda x:[i.replace(\" \",\"\") for i in x])\n",
    "movies['crew']=movies['crew'].apply(lambda x:[i.replace(\" \",\"\") for i in x])"
   ]
  },
  {
   "cell_type": "code",
   "execution_count": 96,
   "id": "efdfd699-6cc1-4d3a-87ac-667b0cbad4a4",
   "metadata": {},
   "outputs": [],
   "source": [
    "movies['tags']=movies['overview']+movies['genres']+movies['keywords']+movies['cast']+movies['crew']"
   ]
  },
  {
   "cell_type": "code",
   "execution_count": 102,
   "id": "2089f718-6af6-4a75-8714-18f7c130f698",
   "metadata": {},
   "outputs": [],
   "source": [
    "new_movies=movies[['movie_id','title','tags']]"
   ]
  },
  {
   "cell_type": "code",
   "execution_count": 104,
   "id": "808d4208-82fa-4bef-a975-b380539181b5",
   "metadata": {},
   "outputs": [
    {
     "data": {
      "text/html": [
       "<div>\n",
       "<style scoped>\n",
       "    .dataframe tbody tr th:only-of-type {\n",
       "        vertical-align: middle;\n",
       "    }\n",
       "\n",
       "    .dataframe tbody tr th {\n",
       "        vertical-align: top;\n",
       "    }\n",
       "\n",
       "    .dataframe thead th {\n",
       "        text-align: right;\n",
       "    }\n",
       "</style>\n",
       "<table border=\"1\" class=\"dataframe\">\n",
       "  <thead>\n",
       "    <tr style=\"text-align: right;\">\n",
       "      <th></th>\n",
       "      <th>movie_id</th>\n",
       "      <th>title</th>\n",
       "      <th>tags</th>\n",
       "    </tr>\n",
       "  </thead>\n",
       "  <tbody>\n",
       "    <tr>\n",
       "      <th>0</th>\n",
       "      <td>19995</td>\n",
       "      <td>Avatar</td>\n",
       "      <td>[In, the, 22nd, century,, a, paraplegic, Marin...</td>\n",
       "    </tr>\n",
       "    <tr>\n",
       "      <th>1</th>\n",
       "      <td>285</td>\n",
       "      <td>Pirates of the Caribbean: At World's End</td>\n",
       "      <td>[Captain, Barbossa,, long, believed, to, be, d...</td>\n",
       "    </tr>\n",
       "    <tr>\n",
       "      <th>2</th>\n",
       "      <td>206647</td>\n",
       "      <td>Spectre</td>\n",
       "      <td>[A, cryptic, message, from, Bond’s, past, send...</td>\n",
       "    </tr>\n",
       "    <tr>\n",
       "      <th>3</th>\n",
       "      <td>49026</td>\n",
       "      <td>The Dark Knight Rises</td>\n",
       "      <td>[Following, the, death, of, District, Attorney...</td>\n",
       "    </tr>\n",
       "    <tr>\n",
       "      <th>4</th>\n",
       "      <td>49529</td>\n",
       "      <td>John Carter</td>\n",
       "      <td>[John, Carter, is, a, war-weary,, former, mili...</td>\n",
       "    </tr>\n",
       "    <tr>\n",
       "      <th>...</th>\n",
       "      <td>...</td>\n",
       "      <td>...</td>\n",
       "      <td>...</td>\n",
       "    </tr>\n",
       "    <tr>\n",
       "      <th>4840</th>\n",
       "      <td>9367</td>\n",
       "      <td>El Mariachi</td>\n",
       "      <td>[El, Mariachi, just, wants, to, play, his, gui...</td>\n",
       "    </tr>\n",
       "    <tr>\n",
       "      <th>4841</th>\n",
       "      <td>72766</td>\n",
       "      <td>Newlyweds</td>\n",
       "      <td>[A, newlywed, couple's, honeymoon, is, upended...</td>\n",
       "    </tr>\n",
       "    <tr>\n",
       "      <th>4842</th>\n",
       "      <td>231617</td>\n",
       "      <td>Signed, Sealed, Delivered</td>\n",
       "      <td>[\"Signed,, Sealed,, Delivered\", introduces, a,...</td>\n",
       "    </tr>\n",
       "    <tr>\n",
       "      <th>4843</th>\n",
       "      <td>126186</td>\n",
       "      <td>Shanghai Calling</td>\n",
       "      <td>[When, ambitious, New, York, attorney, Sam, is...</td>\n",
       "    </tr>\n",
       "    <tr>\n",
       "      <th>4844</th>\n",
       "      <td>25975</td>\n",
       "      <td>My Date with Drew</td>\n",
       "      <td>[Ever, since, the, second, grade, when, he, fi...</td>\n",
       "    </tr>\n",
       "  </tbody>\n",
       "</table>\n",
       "<p>4806 rows × 3 columns</p>\n",
       "</div>"
      ],
      "text/plain": [
       "      movie_id                                     title  \\\n",
       "0        19995                                    Avatar   \n",
       "1          285  Pirates of the Caribbean: At World's End   \n",
       "2       206647                                   Spectre   \n",
       "3        49026                     The Dark Knight Rises   \n",
       "4        49529                               John Carter   \n",
       "...        ...                                       ...   \n",
       "4840      9367                               El Mariachi   \n",
       "4841     72766                                 Newlyweds   \n",
       "4842    231617                 Signed, Sealed, Delivered   \n",
       "4843    126186                          Shanghai Calling   \n",
       "4844     25975                         My Date with Drew   \n",
       "\n",
       "                                                   tags  \n",
       "0     [In, the, 22nd, century,, a, paraplegic, Marin...  \n",
       "1     [Captain, Barbossa,, long, believed, to, be, d...  \n",
       "2     [A, cryptic, message, from, Bond’s, past, send...  \n",
       "3     [Following, the, death, of, District, Attorney...  \n",
       "4     [John, Carter, is, a, war-weary,, former, mili...  \n",
       "...                                                 ...  \n",
       "4840  [El, Mariachi, just, wants, to, play, his, gui...  \n",
       "4841  [A, newlywed, couple's, honeymoon, is, upended...  \n",
       "4842  [\"Signed,, Sealed,, Delivered\", introduces, a,...  \n",
       "4843  [When, ambitious, New, York, attorney, Sam, is...  \n",
       "4844  [Ever, since, the, second, grade, when, he, fi...  \n",
       "\n",
       "[4806 rows x 3 columns]"
      ]
     },
     "execution_count": 104,
     "metadata": {},
     "output_type": "execute_result"
    }
   ],
   "source": [
    "new_movies"
   ]
  },
  {
   "cell_type": "code",
   "execution_count": 108,
   "id": "03667403-553c-4a9a-ba00-d3e799d18d55",
   "metadata": {},
   "outputs": [
    {
     "name": "stderr",
     "output_type": "stream",
     "text": [
      "C:\\Users\\balbi\\AppData\\Local\\Temp\\ipykernel_3788\\4113134046.py:1: SettingWithCopyWarning: \n",
      "A value is trying to be set on a copy of a slice from a DataFrame.\n",
      "Try using .loc[row_indexer,col_indexer] = value instead\n",
      "\n",
      "See the caveats in the documentation: https://pandas.pydata.org/pandas-docs/stable/user_guide/indexing.html#returning-a-view-versus-a-copy\n",
      "  new_movies['tags']=new_movies['tags'].apply(lambda x:\" \".join(x))\n"
     ]
    }
   ],
   "source": [
    "new_movies['tags']=new_movies['tags'].apply(lambda x:\" \".join(x))"
   ]
  },
  {
   "cell_type": "code",
   "execution_count": 122,
   "id": "8f21d6f0-c9d4-4cac-a623-ae808b4dd799",
   "metadata": {},
   "outputs": [
    {
     "name": "stderr",
     "output_type": "stream",
     "text": [
      "C:\\Users\\balbi\\AppData\\Local\\Temp\\ipykernel_3788\\2514494177.py:1: SettingWithCopyWarning: \n",
      "A value is trying to be set on a copy of a slice from a DataFrame.\n",
      "Try using .loc[row_indexer,col_indexer] = value instead\n",
      "\n",
      "See the caveats in the documentation: https://pandas.pydata.org/pandas-docs/stable/user_guide/indexing.html#returning-a-view-versus-a-copy\n",
      "  new_movies['tags']=new_movies['tags'].apply(lambda x:x.lower())\n"
     ]
    }
   ],
   "source": [
    "new_movies['tags']=new_movies['tags'].apply(lambda x:x.lower())"
   ]
  },
  {
   "cell_type": "code",
   "execution_count": 143,
   "id": "2094baa6-796c-45dd-93fd-dbd9bfd5e2bb",
   "metadata": {},
   "outputs": [],
   "source": [
    "import nltk"
   ]
  },
  {
   "cell_type": "code",
   "execution_count": 147,
   "id": "12fb6dfd-d481-4073-b6ae-29f56c5f6fd1",
   "metadata": {},
   "outputs": [],
   "source": [
    "from nltk.stem.porter import PorterStemmer\n",
    "ps=PorterStemmer()"
   ]
  },
  {
   "cell_type": "code",
   "execution_count": 161,
   "id": "f942acd4-8ac9-4c4a-9eb9-a39fb4e0aaf4",
   "metadata": {},
   "outputs": [],
   "source": [
    "def stem(text):\n",
    "    y = []\n",
    "    for i in text.split():\n",
    "        y.append(ps.stem(i))\n",
    "    return \" \".join(y)"
   ]
  },
  {
   "cell_type": "code",
   "execution_count": 167,
   "id": "ec52dd5a-c2f1-4a5c-b225-49615ecbf23f",
   "metadata": {},
   "outputs": [
    {
     "name": "stderr",
     "output_type": "stream",
     "text": [
      "C:\\Users\\balbi\\AppData\\Local\\Temp\\ipykernel_3788\\2598606076.py:1: SettingWithCopyWarning: \n",
      "A value is trying to be set on a copy of a slice from a DataFrame.\n",
      "Try using .loc[row_indexer,col_indexer] = value instead\n",
      "\n",
      "See the caveats in the documentation: https://pandas.pydata.org/pandas-docs/stable/user_guide/indexing.html#returning-a-view-versus-a-copy\n",
      "  new_movies['tags']=new_movies['tags'].apply(stem)\n"
     ]
    }
   ],
   "source": [
    "new_movies['tags']=new_movies['tags'].apply(stem)"
   ]
  },
  {
   "cell_type": "code",
   "execution_count": 169,
   "id": "80b23adc-9625-406d-a03e-27c5888db466",
   "metadata": {},
   "outputs": [],
   "source": [
    "from sklearn.feature_extraction.text import CountVectorizer\n",
    "cv=CountVectorizer(max_features=5000,stop_words='english')\n",
    "vectors=cv.fit_transform(new_movies['tags']).toarray()"
   ]
  },
  {
   "cell_type": "code",
   "execution_count": 173,
   "id": "c06b98e5-0867-4906-86fa-d18e2b78b224",
   "metadata": {},
   "outputs": [],
   "source": [
    "from sklearn.metrics.pairwise import cosine_similarity"
   ]
  },
  {
   "cell_type": "code",
   "execution_count": 177,
   "id": "6f1b94b6-f304-4535-b18d-5848c6f9a0e2",
   "metadata": {},
   "outputs": [],
   "source": [
    "similarity=cosine_similarity(vectors)"
   ]
  },
  {
   "cell_type": "code",
   "execution_count": 201,
   "id": "7630b561-7057-429b-94b1-cd10d9c91f2b",
   "metadata": {},
   "outputs": [],
   "source": [
    "def recommend(movie):\n",
    "    movie_index = new_movies[new_movies['title'] == movie].index[0]\n",
    "    distances = similarity[movie_index]\n",
    "    movies_list = sorted(list(enumerate(distances)),reverse=True,key=lambda x:x[1])[1:6]\n",
    "    for i in movies_list:\n",
    "        print(new_movies.iloc[i[0]].title)"
   ]
  },
  {
   "cell_type": "code",
   "execution_count": 203,
   "id": "38af0f61-b296-4e10-a715-6730b6b656f6",
   "metadata": {},
   "outputs": [],
   "source": [
    "import pickle"
   ]
  },
  {
   "cell_type": "code",
   "execution_count": 205,
   "id": "959f7cbd-a6b5-43df-a861-d4457d7cd35f",
   "metadata": {},
   "outputs": [],
   "source": [
    "pickle.dump(new_df,open('movies.pkl','wb'))"
   ]
  },
  {
   "cell_type": "code",
   "execution_count": 207,
   "id": "cf8538c5-80b9-445d-9c89-f75a08a3c896",
   "metadata": {},
   "outputs": [],
   "source": [
    "pickle.dump(similarity,open('similarity.pkl','wb'))"
   ]
  },
  {
   "cell_type": "code",
   "execution_count": null,
   "id": "33113bd6-f933-49e8-b46c-8f784850d895",
   "metadata": {},
   "outputs": [],
   "source": []
  }
 ],
 "metadata": {
  "kernelspec": {
   "display_name": "Python 3 (ipykernel)",
   "language": "python",
   "name": "python3"
  },
  "language_info": {
   "codemirror_mode": {
    "name": "ipython",
    "version": 3
   },
   "file_extension": ".py",
   "mimetype": "text/x-python",
   "name": "python",
   "nbconvert_exporter": "python",
   "pygments_lexer": "ipython3",
   "version": "3.12.4"
  }
 },
 "nbformat": 4,
 "nbformat_minor": 5
}
